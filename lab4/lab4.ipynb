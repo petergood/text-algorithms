{
 "cells": [
  {
   "cell_type": "markdown",
   "metadata": {},
   "source": [
    "# Laboratorium 4 - Odległość edycyjna, LCS"
   ]
  },
  {
   "cell_type": "markdown",
   "metadata": {},
   "source": [
    "## Odległość edycyjna"
   ]
  },
  {
   "cell_type": "code",
   "execution_count": 2,
   "metadata": {},
   "outputs": [],
   "source": [
    "from enum import Enum\n",
    "\n",
    "class Operation(Enum):\n",
    "    add = 0\n",
    "    remove = 1\n",
    "    sub = 2\n",
    "    leave = 3\n",
    "\n",
    "def edit_distance(s1, s2):\n",
    "    l1, l2 = len(s1) + 1, len(s2) + 1\n",
    "    \n",
    "    operations = [[]] * l1\n",
    "    edit = [[]] * l1\n",
    "    for i in range(l1):\n",
    "        edit[i] = [0] * l2\n",
    "        operations[i] = [(0, 0, -1, -1)] * l2\n",
    "\n",
    "    for j in range(l2):\n",
    "        edit[0][j] = j\n",
    "        operations[0][j] = (Operation.add, (0, j - 1), -1, -1)\n",
    "    for i in range(l1):\n",
    "        edit[i][0] = i\n",
    "        operations[i][0] = (Operation.remove, i - 1, -1, -1)\n",
    "\n",
    "    for i in range(1, l1):\n",
    "        for j in range(1, l2):\n",
    "            m = edit[i - 1][j] + 1\n",
    "            op = (Operation.remove, i - 1, i - 1, j)\n",
    "\n",
    "            if edit[i][j - 1] + 1 < m:\n",
    "                m = edit[i][j - 1] + 1\n",
    "                op = (Operation.add, (i, j - 1), i, j - 1)\n",
    "\n",
    "            match = 0 if s1[i - 1] == s2[j - 1] else 1\n",
    "            if edit[i - 1][j - 1] + match < m:\n",
    "                m = edit[i - 1][j - 1] + match\n",
    "                if match == 0:\n",
    "                    op = (Operation.leave, i - 1, i - 1, j - 1)\n",
    "                else:\n",
    "                    op = (Operation.sub, (i - 1, j - 1), i - 1, j - 1)\n",
    "        \n",
    "            edit[i][j] = m\n",
    "            operations[i][j] = op\n",
    "\n",
    "    op_seq = []\n",
    "    i, j = l1 - 1, l2 - 1\n",
    "    while i >= 0 and j >= 0:\n",
    "        if (operations[i][j][0] != Operation.leave \n",
    "            and not ((operations[i][j][0] == Operation.remove or operations[i][j][0] == Operation.add) and operations[i][j][1] == -1)):\n",
    "            op_seq.append((operations[i][j][0], operations[i][j][1]))\n",
    "        i, j = operations[i][j][2], operations[i][j][3]\n",
    "\n",
    "    return edit[l1 - 1][l2 - 1], op_seq"
   ]
  },
  {
   "cell_type": "code",
   "execution_count": 3,
   "metadata": {},
   "outputs": [],
   "source": [
    "def print_result(t1, t2):\n",
    "    dist, op_seq = edit_distance(t1, t2)\n",
    "    print(f\"Odległość edycyjna: {dist}\")\n",
    "    \n",
    "    for op in op_seq:\n",
    "        if op[0] == Operation.sub:\n",
    "            print(f\"Zamiana {t1[op[1][0]]} -> {t2[op[1][1]]}\")\n",
    "        elif op[0] == Operation.add:\n",
    "            print(f\"Dodanie {t2[op[1][1]]}\")\n",
    "        elif op[0] == Operation.remove:\n",
    "            print(f\"Usunięcie {t1[op[1]]}\")"
   ]
  },
  {
   "cell_type": "code",
   "execution_count": 4,
   "metadata": {},
   "outputs": [
    {
     "name": "stdout",
     "output_type": "stream",
     "text": [
      "Odległość edycyjna: 2\n",
      "Zamiana s -> c\n",
      "Dodanie k\n"
     ]
    }
   ],
   "source": [
    "print_result(\"los\", \"kloc\")"
   ]
  },
  {
   "cell_type": "code",
   "execution_count": 5,
   "metadata": {},
   "outputs": [
    {
     "name": "stdout",
     "output_type": "stream",
     "text": [
      "Odległość edycyjna: 3\n",
      "Zamiana ź -> z\n",
      "Zamiana ó -> o\n",
      "Zamiana Ł -> L\n"
     ]
    }
   ],
   "source": [
    "print_result(\"Łódź\", \"Lodz\")"
   ]
  },
  {
   "cell_type": "code",
   "execution_count": 6,
   "metadata": {},
   "outputs": [
    {
     "name": "stdout",
     "output_type": "stream",
     "text": [
      "Odległość edycyjna: 5\n",
      "Usunięcie a\n",
      "Zamiana j -> e\n",
      "Dodanie s\n",
      "Zamiana w -> u\n",
      "Zamiana k -> q\n"
     ]
    }
   ],
   "source": [
    "print_result(\"kwintesencja\", \"quintessence\")"
   ]
  },
  {
   "cell_type": "code",
   "execution_count": 7,
   "metadata": {},
   "outputs": [
    {
     "name": "stdout",
     "output_type": "stream",
     "text": [
      "Odległość edycyjna: 7\n",
      "Usunięcie C\n",
      "Usunięcie G\n",
      "Dodanie G\n",
      "Zamiana A -> G\n",
      "Dodanie C\n",
      "Zamiana T -> G\n",
      "Zamiana A -> G\n"
     ]
    }
   ],
   "source": [
    "print_result(\"ATGAATCTTACCGCCTCG\", \"ATGAGGCTCTGGCCCCTG\")"
   ]
  },
  {
   "cell_type": "markdown",
   "metadata": {},
   "source": [
    "## Najdłuższy wspólny podciąg"
   ]
  },
  {
   "cell_type": "code",
   "execution_count": 8,
   "metadata": {},
   "outputs": [],
   "source": [
    "def longest_common_subsequence(x, y):\n",
    "    m, n = len(x) + 1, len(y) + 1\n",
    "    C = [[]] * m\n",
    "    for i in range(m):\n",
    "        C[i] = [0] * n\n",
    "\n",
    "    for i in range(1, m):\n",
    "        for j in range(1, n):\n",
    "            if x[i - 1] == y[j - 1]:\n",
    "                C[i][j] = C[i - 1][j - 1] + 1\n",
    "            else:\n",
    "                C[i][j] = max(C[i][j - 1], C[i - 1][j])\n",
    "    \n",
    "    i, j = m - 1, n - 1\n",
    "    sigma = []\n",
    "\n",
    "    while i > 0 and j > 0:\n",
    "        if C[i][j] == C[i - 1][j - 1] + (1 if x[i - 1] == y[j - 1] else 0):\n",
    "            if x[i - 1] == y[j - 1]:\n",
    "                sigma.insert(0, x[i - 1])\n",
    "            i = i - 1\n",
    "            j = j - 1\n",
    "        elif C[i][j] == C[i - 1][j]:\n",
    "            i = i - 1\n",
    "        else:\n",
    "            j = j - 1\n",
    "\n",
    "    return C[m - 1][n - 1], sigma"
   ]
  },
  {
   "cell_type": "code",
   "execution_count": 9,
   "metadata": {},
   "outputs": [
    {
     "name": "stdout",
     "output_type": "stream",
     "text": [
      "13\n"
     ]
    }
   ],
   "source": [
    "lcs, _ = longest_common_subsequence(\"ATGAATCTTACCGCCTCG\", \"ATGAGGCTCTGGCCCCTG\")\n",
    "print(lcs)"
   ]
  },
  {
   "cell_type": "markdown",
   "metadata": {},
   "source": [
    "Aby dokonać tokenizacji wykorzystałem bibliotekę spaCy. Wygenerowałem plik *romeo-i-julia-2.txt* (znajduje się w archiwum)"
   ]
  },
  {
   "cell_type": "code",
   "execution_count": 10,
   "metadata": {},
   "outputs": [],
   "source": [
    "from spacy.tokenizer import Tokenizer\n",
    "from spacy.lang.pl import Polish\n",
    "import random\n",
    "from lcs import longest_common_subsequence\n",
    "\n",
    "def tokenize(file):\n",
    "    nlp = Polish()\n",
    "    tokenizer = Tokenizer(nlp.vocab)\n",
    "\n",
    "    with open(file, 'r') as content_file:\n",
    "        content = content_file.read()\n",
    "        tokens = tokenizer(content)\n",
    "        return [token for token in tokens]\n",
    "\n",
    "def remove_tokens(tokens, frac):\n",
    "    random.seed()\n",
    "    to_remove = int(frac * len(tokens))\n",
    "    new_tokens = list(tokens)\n",
    "    for _ in range(to_remove):\n",
    "        i = random.randint(0, len(new_tokens) - 1)\n",
    "        del new_tokens[i]\n",
    "\n",
    "    return new_tokens"
   ]
  },
  {
   "cell_type": "code",
   "execution_count": 13,
   "metadata": {},
   "outputs": [
    {
     "name": "stdout",
     "output_type": "stream",
     "text": [
      "Tokens: 2272, smaller set: 1591\n"
     ]
    }
   ],
   "source": [
    "tokens = tokenize('romeo-i-julia-700.txt')\n",
    "smaller_set = remove_tokens(tokens, 0.3)\n",
    "lines = str(' '.join(map(lambda token: token.text, smaller_set))).split('\\n')\n",
    "\n",
    "print(\"Tokens: \" + str(len(tokens)) + \", smaller set: \" + str(len(smaller_set)))"
   ]
  },
  {
   "cell_type": "code",
   "execution_count": 16,
   "metadata": {},
   "outputs": [
    {
     "name": "stdout",
     "output_type": "stream",
     "text": [
      "Longest common subsequence between files: 1591\n"
     ]
    }
   ],
   "source": [
    "l, sigma = longest_common_subsequence(tokens, smaller_set)\n",
    "print(f\"Longest common subsequence between files: {l}\")"
   ]
  },
  {
   "cell_type": "markdown",
   "metadata": {},
   "source": [
    "## Narzędzie diff"
   ]
  },
  {
   "cell_type": "code",
   "execution_count": 32,
   "metadata": {},
   "outputs": [],
   "source": [
    "import sys\n",
    "\n",
    "def read_file(file):\n",
    "    with open(file, 'r') as content_file:\n",
    "        return content_file.read()\n",
    "\n",
    "def diff(file1, file2):\n",
    "    lines1 = read_file(file1).split('\\n')\n",
    "    lines2 = read_file(file2).split('\\n')\n",
    "    \n",
    "    l, sigma = longest_common_subsequence(lines1, lines2)\n",
    "    output = []\n",
    "\n",
    "    def print_line(line, c, i):\n",
    "        if line not in sigma:\n",
    "            output.append(f\"{c} ({i}) {line}\")\n",
    "\n",
    "    i, j = 0, 0\n",
    "    while i < len(lines1) or j < len(lines2):\n",
    "        if i < len(lines1):\n",
    "            print_line(lines1[i], '>', i)\n",
    "            i = i + 1\n",
    "        if j < len(lines2):\n",
    "            print_line(lines2[j], '<', j)\n",
    "            j = j + 1\n",
    "    \n",
    "    return output\n",
    "\n",
    "# Wykomentowane w notebooku\n",
    "            \n",
    "# if __name__ == \"__main__\":\n",
    "#     args = list(sys.argv)\n",
    "\n",
    "#     if len(args) != 3:\n",
    "#         print(\"Usage: python diff.py file1 file2\")\n",
    "#         exit(1)\n",
    "\n",
    "#     output = diff(args[1], args[2])\n",
    "#     print('\\n'.join(output))"
   ]
  },
  {
   "cell_type": "code",
   "execution_count": 31,
   "metadata": {},
   "outputs": [
    {
     "name": "stdout",
     "output_type": "stream",
     "text": [
      "> (0) William Shakespeare\n",
      "< (0) William Romeo i Julia Józef\n",
      "> (2) Romeo i Julia\n",
      "< (2) ISBN\n",
      "> (3) tłum. Józef Paszkowski\n",
      "> (5) ISBN 978-83-288-2903-9\n",
      "< (6) ESKALUS — książę panujący — młody krewny księcia\n",
      "< (7) MONTEKI, KAPULET dwóch nieprzyjaznych sobie * STARZEC — stryjeczny brat Kapuleta ROMEO — syn * MERKUCJO — krewny księcia Montekiego\n",
      "< (8) * — krewny Kapulet\n",
      "> (9) OSOBY:\n",
      "< (9) * LAURENTY — ojciec\n",
      "> (10)  * ESKALUS — książę panujący w Weronie\n",
      "< (10) * JAN brat z zgromadzenia * — służący Romea\n",
      "> (11)  * PARYS — młody Weroneńczyk szlachetnego rodu, krewny księcia\n",
      "< (11) * SAMSON, słudzy\n",
      "> (12)  * MONTEKI, KAPULET — naczelnicy dwóch domów nieprzyjaznych sobie\n",
      "< (12) * ABRAHAM — służący Montekiego\n",
      "> (13)  * STARZEC — stryjeczny brat Kapuleta\n",
      "< (13) * APTEKARZ\n",
      "> (14)  * ROMEO — syn Montekiego\n"
     ]
    }
   ],
   "source": [
    "output = diff(\"romeo-i-julia-700.txt\", \"romeo-i-julia-2.txt\")\n",
    "\n",
    "# Wyświetlam w notebooku tylko 20 pierwszych linii\n",
    "print('\\n'.join(output[0:20]))"
   ]
  },
  {
   "cell_type": "code",
   "execution_count": null,
   "metadata": {},
   "outputs": [],
   "source": []
  }
 ],
 "metadata": {
  "kernelspec": {
   "display_name": "Python 3",
   "language": "python",
   "name": "python3"
  },
  "language_info": {
   "codemirror_mode": {
    "name": "ipython",
    "version": 3
   },
   "file_extension": ".py",
   "mimetype": "text/x-python",
   "name": "python",
   "nbconvert_exporter": "python",
   "pygments_lexer": "ipython3",
   "version": "3.7.3"
  }
 },
 "nbformat": 4,
 "nbformat_minor": 4
}
