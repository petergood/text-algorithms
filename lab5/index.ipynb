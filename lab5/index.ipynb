{
 "cells": [
  {
   "cell_type": "markdown",
   "metadata": {},
   "source": [
    "# Wyszukiwanie wzorców dwuwymiarowych"
   ]
  },
  {
   "cell_type": "code",
   "execution_count": 139,
   "metadata": {},
   "outputs": [],
   "source": [
    "from timeit import timeit"
   ]
  },
  {
   "cell_type": "code",
   "execution_count": 47,
   "metadata": {},
   "outputs": [],
   "source": [
    "class TrieNode:\n",
    "    def __init__(self, char, id):\n",
    "        self.children = {}\n",
    "        self.parent = None\n",
    "        self.is_end = False\n",
    "        self.char = char\n",
    "        self.link = self\n",
    "        self.id = id\n",
    "\n",
    "    def add_child(self, child):\n",
    "        self.children[child.char] = child\n",
    "        child.parent = self\n",
    "\n",
    "    def get_child(self, char):\n",
    "        return self.children[char]\n",
    "\n",
    "class Trie:\n",
    "    def __init__(self, strings):\n",
    "        self.root = TrieNode('', 0)\n",
    "        self.size = 1\n",
    "        self.__build(strings)\n",
    "\n",
    "    def __build(self, strings):\n",
    "        for s in strings:\n",
    "            self.__insert_string(s)\n",
    "\n",
    "        q = [self.root]\n",
    "        while q:\n",
    "            node = q.pop(0)\n",
    "            if node.char == '' or node.parent.char == '':\n",
    "                node.link = self.root\n",
    "            else:\n",
    "                c = node.char\n",
    "                curr = node.parent.link\n",
    "\n",
    "                while True:\n",
    "                    if c in curr.children:\n",
    "                        node.link = curr.children[c]\n",
    "                        break\n",
    "                    if curr.char == '':\n",
    "                        node.link = self.root\n",
    "                        break\n",
    "\n",
    "                    curr = curr.link\n",
    "            \n",
    "            for char in node.children:\n",
    "                q.append(node.children[char])\n",
    "\n",
    "\n",
    "    def __insert_string(self, str):\n",
    "        curr = self.root\n",
    "\n",
    "        for char in str:\n",
    "            if char not in curr.children:\n",
    "                n = TrieNode(char, self.size)\n",
    "                self.size = self.size + 1\n",
    "                curr.add_child(n)\n",
    "                curr = n\n",
    "            else:\n",
    "                curr = curr.get_child(char)"
   ]
  },
  {
   "cell_type": "code",
   "execution_count": 141,
   "metadata": {},
   "outputs": [],
   "source": [
    "def get_next_state(curr_node, char):\n",
    "    while True:\n",
    "        if char in curr_node.children:\n",
    "            return curr_node.children[char]\n",
    "\n",
    "        if curr_node.char == '':\n",
    "            return curr_node #root\n",
    "\n",
    "        curr_node = curr_node.link\n",
    "\n",
    "def find_pattern(pattern, mat, trie = None):\n",
    "    cols = []\n",
    "    for c in range(len(pattern[0])):\n",
    "        s = []\n",
    "        for r in range(len(pattern)):\n",
    "            s.append(pattern[r][c])\n",
    "        cols.append(s)\n",
    "\n",
    "    if not trie:\n",
    "        trie = Trie(cols)\n",
    "        \n",
    "    states = [[0] * len(mat[0]) for i in range(len(mat))]\n",
    "    acc = []\n",
    "\n",
    "    for c in range(len(pattern[0])):\n",
    "        curr_node = trie.root\n",
    "        for r in range(len(pattern)):\n",
    "            curr_node = get_next_state(curr_node, pattern[r][c])\n",
    "        acc.append(curr_node.id)\n",
    "\n",
    "    for c in range(len(mat[0])):\n",
    "        curr_node = trie.root\n",
    "        for r in range(len(mat)):\n",
    "            curr_node = get_next_state(curr_node, mat[r][c])\n",
    "            states[r][c] = curr_node.id\n",
    "\n",
    "    matches = []\n",
    "\n",
    "    for r in range(len(mat)):\n",
    "        for c in range(len(mat[0])):\n",
    "            match = True\n",
    "            for i in range(len(acc)):\n",
    "                if states[r][c + i] != acc[i]:\n",
    "                    match = False\n",
    "                    break\n",
    "            if match:\n",
    "                matches.append((r - len(pattern) + 1, c))\n",
    "\n",
    "    return matches"
   ]
  },
  {
   "cell_type": "code",
   "execution_count": 55,
   "metadata": {},
   "outputs": [],
   "source": [
    "def preprocess_file(file_name):\n",
    "    with open(file_name, 'r') as file:\n",
    "        data = file.read().split('\\n')\n",
    "        max_len = max(map(lambda line: len(line), data))\n",
    "        return list(map(lambda line: line + (' ' * (max_len - len(line))), data))"
   ]
  },
  {
   "cell_type": "code",
   "execution_count": 56,
   "metadata": {},
   "outputs": [],
   "source": [
    "lines = preprocess_file('haystack.txt')"
   ]
  },
  {
   "cell_type": "markdown",
   "metadata": {},
   "source": [
    "## Ten sam znak na kolejnych liniach"
   ]
  },
  {
   "cell_type": "code",
   "execution_count": 137,
   "metadata": {},
   "outputs": [],
   "source": [
    "letters = set(\" \".join(lines))\n",
    "letters.remove(' ')"
   ]
  },
  {
   "cell_type": "code",
   "execution_count": 142,
   "metadata": {},
   "outputs": [
    {
     "name": "stdout",
     "output_type": "stream",
     "text": [
      "U: []\n",
      ";: []\n",
      "a: [(0, 82), (3, 30), (5, 60), (6, 63), (20, 6), (28, 69), (31, 50), (31, 73), (33, 66), (37, 4), (52, 12), (53, 12), (53, 48), (56, 11), (57, 36), (58, 36), (59, 24), (64, 2), (64, 14), (64, 22), (65, 35), (69, 35), (76, 21), (76, 74), (77, 42), (77, 61), (78, 59), (79, 37)]\n",
      "j: []\n",
      "m: [(16, 5), (28, 70), (34, 40), (34, 60), (44, 0)]\n",
      "s: [(3, 57), (3, 63), (4, 49), (8, 21), (9, 58), (28, 45), (29, 56), (30, 56), (37, 34), (40, 63), (45, 34), (46, 44), (49, 14), (52, 53), (54, 0), (67, 37), (70, 41), (71, 24), (79, 24)]\n",
      "q: []\n",
      "P: []\n",
      "3: []\n",
      "N: []\n",
      "e: [(0, 63), (1, 8), (4, 77), (7, 65), (10, 1), (10, 64), (14, 2), (15, 43), (17, 6), (18, 27), (20, 10), (21, 61), (22, 53), (24, 3), (24, 65), (28, 67), (28, 73), (29, 38), (29, 43), (37, 48), (40, 11), (40, 26), (41, 57), (42, 36), (42, 48), (46, 52), (47, 50), (51, 31), (57, 54), (58, 50), (58, 54), (59, 73), (63, 66), (65, 69), (66, 72), (67, 17), (68, 46), (69, 15), (70, 49), (71, 38), (72, 23), (73, 27), (76, 6), (77, 6), (78, 65), (80, 6), (81, 14), (82, 47)]\n",
      "n: [(0, 83), (1, 9), (14, 54), (19, 37), (20, 56), (21, 62), (31, 1), (35, 18), (51, 32), (54, 33), (56, 13), (64, 29), (67, 35), (67, 40), (67, 57)]\n",
      "r: [(1, 4), (6, 39), (6, 50), (7, 13), (15, 18), (17, 14), (19, 54), (20, 54), (28, 65), (31, 70), (33, 10), (33, 37), (43, 25), (46, 42), (47, 37), (52, 5), (55, 40), (60, 30), (62, 39), (67, 29), (69, 22)]\n",
      "b: []\n",
      "): []\n",
      "V: []\n",
      "L: []\n",
      "W: []\n",
      "w: [(1, 3), (21, 70)]\n",
      ",: []\n",
      "l: [(28, 72), (33, 45), (41, 77), (46, 61), (53, 45)]\n",
      "6: []\n",
      "G: []\n",
      "O: []\n",
      ".: []\n",
      "C: []\n",
      "F: []\n",
      "D: []\n",
      "B: []\n",
      "c: [(3, 54), (10, 45), (13, 10), (41, 0), (68, 0), (82, 41)]\n",
      "f: [(30, 59), (77, 1)]\n",
      "S: []\n",
      "p: [(28, 71), (41, 18)]\n",
      "A: []\n",
      "(: []\n",
      "5: []\n",
      "Q: []\n",
      "-: []\n",
      "d: [(37, 19)]\n",
      "h: [(27, 2), (37, 2), (56, 31), (73, 12)]\n",
      "T: []\n",
      "0: []\n",
      "7: []\n",
      "1: []\n",
      "i: [(1, 5), (8, 37), (9, 60), (19, 55), (31, 0), (31, 31), (44, 33), (52, 69), (55, 17), (60, 45), (68, 51), (73, 13), (77, 13)]\n",
      "k: []\n",
      "I: []\n",
      "g: []\n",
      "\": []\n",
      "x: [(28, 68)]\n",
      "z: []\n",
      "v: []\n",
      "t: [(0, 7), (1, 6), (1, 7), (3, 37), (4, 14), (4, 23), (7, 29), (8, 75), (13, 55), (15, 12), (16, 3), (19, 33), (22, 8), (23, 4), (24, 4), (27, 31), (28, 23), (28, 52), (30, 16), (35, 10), (37, 0), (41, 45), (41, 73), (46, 24), (50, 0), (51, 33), (52, 61), (54, 11), (55, 54), (58, 49), (58, 78), (59, 33), (59, 75), (61, 56), (67, 71), (69, 5), (71, 3), (72, 3), (72, 10), (72, 59), (77, 22)]\n",
      "o: [(4, 75), (5, 66), (6, 38), (7, 38), (10, 27), (15, 60), (27, 17), (28, 17), (30, 58), (32, 34), (33, 11), (33, 26), (41, 1), (44, 55), (50, 2), (52, 8), (53, 1), (58, 45), (71, 42), (79, 10), (81, 52)]\n",
      "y: [(44, 5)]\n",
      "M: []\n",
      "u: []\n",
      "E: []\n",
      ":: []\n",
      "R: []\n",
      "X: []\n"
     ]
    }
   ],
   "source": [
    "for letter in letters:\n",
    "    print(f\"{letter}: {find_pattern([[letter], [letter]], lines)}\")"
   ]
  },
  {
   "cell_type": "markdown",
   "metadata": {},
   "source": [
    "## \"th\" i \"t h\""
   ]
  },
  {
   "cell_type": "code",
   "execution_count": 57,
   "metadata": {},
   "outputs": [
    {
     "data": {
      "text/plain": [
       "[]"
      ]
     },
     "execution_count": 57,
     "metadata": {},
     "output_type": "execute_result"
    }
   ],
   "source": [
    "find_pattern([\"th\", \"th\"], lines)"
   ]
  },
  {
   "cell_type": "code",
   "execution_count": 58,
   "metadata": {},
   "outputs": [
    {
     "data": {
      "text/plain": [
       "[(37, 0)]"
      ]
     },
     "execution_count": 58,
     "metadata": {},
     "output_type": "execute_result"
    }
   ],
   "source": [
    "find_pattern([\"t h\", \"t h\"], lines)"
   ]
  },
  {
   "cell_type": "markdown",
   "metadata": {},
   "source": [
    "## Rozpoznywanie znaków na obrazie"
   ]
  },
  {
   "cell_type": "markdown",
   "metadata": {},
   "source": [
    "Uzyskane rezultaty nie są idealne, wynikają ze subtelnych różnic w wyświetlaniu tych samych znaków na obrazie. Próbowałem zrobić jakiś prosty preprocessing, np. zmiana wszystkich pixeli niebiałych na czarne, ale nie poprawiło to znacząco jakości wyników."
   ]
  },
  {
   "cell_type": "code",
   "execution_count": 62,
   "metadata": {},
   "outputs": [],
   "source": [
    "from skimage import io\n",
    "from skimage.color import rgb2gray"
   ]
  },
  {
   "cell_type": "code",
   "execution_count": 68,
   "metadata": {},
   "outputs": [
    {
     "name": "stderr",
     "output_type": "stream",
     "text": [
      "/usr/local/lib/python3.7/site-packages/ipykernel_launcher.py:1: FutureWarning: Non RGB image conversion is now deprecated. For RGBA images, please use rgb2gray(rgba2rgb(rgb)) instead. In version 0.19, a ValueError will be raised if input image last dimension length is not 3.\n",
      "  \"\"\"Entry point for launching an IPython kernel.\n"
     ]
    }
   ],
   "source": [
    "image = rgb2gray(io.imread(\"haystack.png\"))"
   ]
  },
  {
   "cell_type": "code",
   "execution_count": 69,
   "metadata": {},
   "outputs": [
    {
     "data": {
      "text/plain": [
       "<matplotlib.image.AxesImage at 0x7efe54c43f60>"
      ]
     },
     "execution_count": 69,
     "metadata": {},
     "output_type": "execute_result"
    },
    {
     "data": {
      "image/png": "[encoded data removed]",
      "text/plain": [
       "<Figure size 432x288 with 1 Axes>"
      ]
     },
     "metadata": {
      "needs_background": "light"
     },
     "output_type": "display_data"
    }
   ],
   "source": [
    "io.imshow(image)"
   ]
  },
  {
   "cell_type": "code",
   "execution_count": 87,
   "metadata": {},
   "outputs": [],
   "source": [
    "def find_in_image(letter, image):\n",
    "    coords = find_pattern(letter.tolist(), image.tolist())\n",
    "    print(f\"Found {len(coords)} chars\")\n",
    "\n",
    "    sample = coords[2]\n",
    "    io.imshow(image[sample[0]:sample[0] + letter.shape[0], sample[1]:sample[1] + letter.shape[1]])"
   ]
  },
  {
   "cell_type": "code",
   "execution_count": 84,
   "metadata": {},
   "outputs": [
    {
     "data": {
      "text/plain": [
       "<matplotlib.image.AxesImage at 0x7efe524f5eb8>"
      ]
     },
     "execution_count": 84,
     "metadata": {},
     "output_type": "execute_result"
    },
    {
     "data": {
      "image/png": "[encoded data removed]",
      "text/plain": [
       "<Figure size 432x288 with 1 Axes>"
      ]
     },
     "metadata": {
      "needs_background": "light"
     },
     "output_type": "display_data"
    }
   ],
   "source": [
    "letter1 = image[81:91, 37:47]\n",
    "io.imshow(letter1)"
   ]
  },
  {
   "cell_type": "code",
   "execution_count": 180,
   "metadata": {},
   "outputs": [
    {
     "name": "stdout",
     "output_type": "stream",
     "text": [
      "Found 576 chars\n"
     ]
    },
    {
     "data": {
      "image/png": "[encoded data removed]",
      "text/plain": [
       "<Figure size 432x288 with 1 Axes>"
      ]
     },
     "metadata": {
      "needs_background": "light"
     },
     "output_type": "display_data"
    }
   ],
   "source": [
    "find_in_image(letter1, image)"
   ]
  },
  {
   "cell_type": "code",
   "execution_count": 94,
   "metadata": {},
   "outputs": [
    {
     "data": {
      "text/plain": [
       "<matplotlib.image.AxesImage at 0x7efe66861278>"
      ]
     },
     "execution_count": 94,
     "metadata": {},
     "output_type": "execute_result"
    },
    {
     "data": {
      "image/png": "[encoded data removed]",
      "text/plain": [
       "<Figure size 432x288 with 1 Axes>"
      ]
     },
     "metadata": {
      "needs_background": "light"
     },
     "output_type": "display_data"
    }
   ],
   "source": [
    "letter2 = image[55:69, 70:74]\n",
    "io.imshow(letter2)"
   ]
  },
  {
   "cell_type": "code",
   "execution_count": 95,
   "metadata": {},
   "outputs": [
    {
     "name": "stdout",
     "output_type": "stream",
     "text": [
      "Found 33 chars\n"
     ]
    },
    {
     "data": {
      "image/png": "[encoded data removed]",
      "text/plain": [
       "<Figure size 432x288 with 1 Axes>"
      ]
     },
     "metadata": {
      "needs_background": "light"
     },
     "output_type": "display_data"
    }
   ],
   "source": [
    "find_in_image(letter2, image)"
   ]
  },
  {
   "cell_type": "code",
   "execution_count": 107,
   "metadata": {},
   "outputs": [
    {
     "data": {
      "text/plain": [
       "<matplotlib.image.AxesImage at 0x7efe66e43c18>"
      ]
     },
     "execution_count": 107,
     "metadata": {},
     "output_type": "execute_result"
    },
    {
     "data": {
      "image/png": "[encoded data removed]",
      "text/plain": [
       "<Figure size 432x288 with 1 Axes>"
      ]
     },
     "metadata": {
      "needs_background": "light"
     },
     "output_type": "display_data"
    }
   ],
   "source": [
    "letter3 = image[77:91, 26:36]\n",
    "io.imshow(letter3)"
   ]
  },
  {
   "cell_type": "code",
   "execution_count": 108,
   "metadata": {},
   "outputs": [
    {
     "name": "stdout",
     "output_type": "stream",
     "text": [
      "Found 56 chars\n"
     ]
    },
    {
     "data": {
      "image/png": "[encoded data removed]",
      "text/plain": [
       "<Figure size 432x288 with 1 Axes>"
      ]
     },
     "metadata": {
      "needs_background": "light"
     },
     "output_type": "display_data"
    }
   ],
   "source": [
    "find_in_image(letter3, image)"
   ]
  },
  {
   "cell_type": "code",
   "execution_count": 121,
   "metadata": {},
   "outputs": [
    {
     "data": {
      "text/plain": [
       "<matplotlib.image.AxesImage at 0x7efe665c3390>"
      ]
     },
     "execution_count": 121,
     "metadata": {},
     "output_type": "execute_result"
    },
    {
     "data": {
      "image/png": "[encoded data removed]",
      "text/plain": [
       "<Figure size 432x288 with 1 Axes>"
      ]
     },
     "metadata": {
      "needs_background": "light"
     },
     "output_type": "display_data"
    }
   ],
   "source": [
    "letter4 = image[33:47, 78:85]\n",
    "io.imshow(letter4)"
   ]
  },
  {
   "cell_type": "code",
   "execution_count": 122,
   "metadata": {},
   "outputs": [
    {
     "name": "stdout",
     "output_type": "stream",
     "text": [
      "Found 88 chars\n"
     ]
    },
    {
     "data": {
      "image/png": "[encoded data removed]",
      "text/plain": [
       "<Figure size 432x288 with 1 Axes>"
      ]
     },
     "metadata": {
      "needs_background": "light"
     },
     "output_type": "display_data"
    }
   ],
   "source": [
    "find_in_image(letter4, image)"
   ]
  },
  {
   "cell_type": "code",
   "execution_count": 128,
   "metadata": {},
   "outputs": [
    {
     "data": {
      "text/plain": [
       "<matplotlib.image.AxesImage at 0x7efe66427390>"
      ]
     },
     "execution_count": 128,
     "metadata": {},
     "output_type": "execute_result"
    },
    {
     "data": {
      "image/png": "[encoded data removed]",
      "text/plain": [
       "<Figure size 432x288 with 1 Axes>"
      ]
     },
     "metadata": {
      "needs_background": "light"
     },
     "output_type": "display_data"
    }
   ],
   "source": [
    "pattern_image = image[474:491, 184:283]\n",
    "io.imshow(pattern_image)"
   ]
  },
  {
   "cell_type": "code",
   "execution_count": 129,
   "metadata": {},
   "outputs": [
    {
     "name": "stdout",
     "output_type": "stream",
     "text": [
      "Found 5 chars\n"
     ]
    },
    {
     "data": {
      "image/png": "[encoded data removed]",
      "text/plain": [
       "<Figure size 432x288 with 1 Axes>"
      ]
     },
     "metadata": {
      "needs_background": "light"
     },
     "output_type": "display_data"
    }
   ],
   "source": [
    "find_in_image(pattern_image, image)"
   ]
  },
  {
   "cell_type": "markdown",
   "metadata": {},
   "source": [
    "## Porównanie czasu budowania automatu"
   ]
  },
  {
   "cell_type": "code",
   "execution_count": 167,
   "metadata": {},
   "outputs": [],
   "source": [
    "def measure_build_time(pattern):\n",
    "    def func_to_time():\n",
    "        Trie(pattern)\n",
    "    \n",
    "    print(f\"Trie construction time: {timeit(func_to_time, number = 1)} seconds\")"
   ]
  },
  {
   "cell_type": "code",
   "execution_count": 169,
   "metadata": {},
   "outputs": [
    {
     "name": "stdout",
     "output_type": "stream",
     "text": [
      "Trie construction time: 0.00015198900655377656 seconds\n"
     ]
    }
   ],
   "source": [
    "measure_build_time([\"algorytmy\", \"tekstowe\"])"
   ]
  },
  {
   "cell_type": "code",
   "execution_count": 170,
   "metadata": {},
   "outputs": [
    {
     "name": "stdout",
     "output_type": "stream",
     "text": [
      "Trie construction time: 0.0006176169990794733 seconds\n"
     ]
    }
   ],
   "source": [
    "measure_build_time(letter1.tolist())"
   ]
  },
  {
   "cell_type": "code",
   "execution_count": 172,
   "metadata": {},
   "outputs": [
    {
     "name": "stdout",
     "output_type": "stream",
     "text": [
      "Trie construction time: 0.011619349999818951 seconds\n"
     ]
    }
   ],
   "source": [
    "measure_build_time(pattern_image.tolist())"
   ]
  },
  {
   "cell_type": "code",
   "execution_count": 175,
   "metadata": {},
   "outputs": [
    {
     "name": "stdout",
     "output_type": "stream",
     "text": [
      "Trie construction time: 1.1986658509995323 seconds\n"
     ]
    }
   ],
   "source": [
    "measure_build_time(image[:1000, :800].tolist())"
   ]
  },
  {
   "cell_type": "code",
   "execution_count": 176,
   "metadata": {},
   "outputs": [
    {
     "name": "stdout",
     "output_type": "stream",
     "text": [
      "Trie construction time: 2.660236927011283 seconds\n"
     ]
    }
   ],
   "source": [
    "measure_build_time(image[:1850, :850].tolist())"
   ]
  },
  {
   "cell_type": "markdown",
   "metadata": {},
   "source": [
    "## Porównanie czasu wyszukiwania wzorca"
   ]
  },
  {
   "cell_type": "code",
   "execution_count": 219,
   "metadata": {},
   "outputs": [],
   "source": [
    "def build_trie_from_cols(pattern):\n",
    "    cols = []\n",
    "    for c in range(len(pattern[0])):\n",
    "        s = []\n",
    "        for r in range(len(pattern)):\n",
    "            s.append(pattern[r][c])\n",
    "        cols.append(s)\n",
    "        \n",
    "    return Trie(cols)\n",
    "\n",
    "def measure_search_time(pattern, text):\n",
    "    trie = build_trie_from_cols(pattern)\n",
    "    \n",
    "    def func_to_time():\n",
    "        find_pattern(pattern, text, trie)\n",
    "        \n",
    "    print(f\"Search time: {timeit(func_to_time, number = 1)} seconds\")"
   ]
  },
  {
   "cell_type": "code",
   "execution_count": 220,
   "metadata": {},
   "outputs": [
    {
     "name": "stdout",
     "output_type": "stream",
     "text": [
      "Search time: 1.500197887988179 seconds\n"
     ]
    }
   ],
   "source": [
    "measure_search_time(letter1.tolist(), image.tolist())"
   ]
  },
  {
   "cell_type": "code",
   "execution_count": 221,
   "metadata": {},
   "outputs": [
    {
     "name": "stdout",
     "output_type": "stream",
     "text": [
      "Search time: 1.4872162730025593 seconds\n"
     ]
    }
   ],
   "source": [
    "measure_search_time(pattern_image.tolist(), image.tolist())"
   ]
  },
  {
   "cell_type": "code",
   "execution_count": 223,
   "metadata": {},
   "outputs": [
    {
     "name": "stdout",
     "output_type": "stream",
     "text": [
      "Search time: 1.790625159002957 seconds\n"
     ]
    }
   ],
   "source": [
    "measure_search_time(image[100:1000, 100:800].tolist(), image.tolist())"
   ]
  },
  {
   "cell_type": "markdown",
   "metadata": {},
   "source": [
    "## Pocięcie obrazu i porównanie czasu wyszukiwania"
   ]
  },
  {
   "cell_type": "code",
   "execution_count": 229,
   "metadata": {},
   "outputs": [],
   "source": [
    "def split_and_time(n, pattern, image):\n",
    "    dy = image.shape[0] / n\n",
    "    images = []\n",
    "    for i in range(n):\n",
    "        images.append(image[int(i * dy) : int((i + 1) * dy), :])\n",
    "        \n",
    "    trie = build_trie_from_cols(pattern.tolist())\n",
    "    \n",
    "    for image in images:\n",
    "        def func_to_time():\n",
    "            find_pattern(pattern.tolist(), image.tolist(), trie)\n",
    "        \n",
    "        print(f\"One part: {timeit(func_to_time, number = 1)} seconds\")"
   ]
  },
  {
   "cell_type": "code",
   "execution_count": 230,
   "metadata": {},
   "outputs": [
    {
     "name": "stdout",
     "output_type": "stream",
     "text": [
      "One part: 0.7665770500025246 seconds\n",
      "One part: 0.7461403789930046 seconds\n"
     ]
    }
   ],
   "source": [
    "split_and_time(2, letter1, image)"
   ]
  },
  {
   "cell_type": "code",
   "execution_count": 231,
   "metadata": {},
   "outputs": [
    {
     "name": "stdout",
     "output_type": "stream",
     "text": [
      "One part: 0.396603169006994 seconds\n",
      "One part: 0.36339037999277934 seconds\n",
      "One part: 0.3584790460008662 seconds\n",
      "One part: 0.3842182639928069 seconds\n"
     ]
    }
   ],
   "source": [
    "split_and_time(4, letter1, image)"
   ]
  },
  {
   "cell_type": "code",
   "execution_count": 232,
   "metadata": {},
   "outputs": [
    {
     "name": "stdout",
     "output_type": "stream",
     "text": [
      "One part: 0.22688274999381974 seconds\n",
      "One part: 0.1700789500027895 seconds\n",
      "One part: 0.1886551000061445 seconds\n",
      "One part: 0.18471876801049802 seconds\n",
      "One part: 0.18989499300369062 seconds\n",
      "One part: 0.1922228290059138 seconds\n",
      "One part: 0.20528136599750724 seconds\n",
      "One part: 0.19027403299696743 seconds\n"
     ]
    }
   ],
   "source": [
    "split_and_time(8, letter1, image)"
   ]
  },
  {
   "cell_type": "code",
   "execution_count": null,
   "metadata": {},
   "outputs": [],
   "source": []
  }
 ],
 "metadata": {
  "kernelspec": {
   "display_name": "Python 3",
   "language": "python",
   "name": "python3"
  },
  "language_info": {
   "codemirror_mode": {
    "name": "ipython",
    "version": 3
   },
   "file_extension": ".py",
   "mimetype": "text/x-python",
   "name": "python",
   "nbconvert_exporter": "python",
   "pygments_lexer": "ipython3",
   "version": "3.7.3"
  }
 },
 "nbformat": 4,
 "nbformat_minor": 4
}
