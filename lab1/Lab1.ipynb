{
 "cells": [
  {
   "cell_type": "markdown",
   "metadata": {},
   "source": [
    "# Finding pattern in text"
   ]
  },
  {
   "cell_type": "code",
   "execution_count": 7,
   "metadata": {},
   "outputs": [],
   "source": [
    "%load_ext autoreload\n",
    "%autoreload 2\n",
    "import time_comparison"
   ]
  },
  {
   "cell_type": "markdown",
   "metadata": {},
   "source": [
    "### Naive algorithm"
   ]
  },
  {
   "cell_type": "code",
   "execution_count": 3,
   "metadata": {},
   "outputs": [],
   "source": [
    "def naive_compare(text, pattern):\n",
    "    res = []\n",
    "    for s in range(0, len(text) - len(pattern) + 1):\n",
    "        if (pattern == text[s:(s + len(pattern))]):\n",
    "            res.append(s)\n",
    "    return res"
   ]
  },
  {
   "cell_type": "markdown",
   "metadata": {},
   "source": [
    "### Finite automaton"
   ]
  },
  {
   "cell_type": "code",
   "execution_count": 5,
   "metadata": {},
   "outputs": [],
   "source": [
    "def get_matching_positions(text, delta):\n",
    "    res = []\n",
    "    q = 0\n",
    "    for s in range(0, len(text)):\n",
    "        if (text[s] not in delta[q]):\n",
    "            q = 0\n",
    "            continue\n",
    "\n",
    "        q = delta[q][text[s]]\n",
    "        if (q == len(delta) - 1):\n",
    "            res.append(s + 1 - q)\n",
    "    return res\n",
    "\n",
    "def get_delta(pattern):\n",
    "    res = []\n",
    "    letters = set()\n",
    "    for c in pattern:\n",
    "        letters.add(c)\n",
    "\n",
    "    for q in range(0, len(pattern) + 1):\n",
    "        res.append({})\n",
    "        for c in letters:\n",
    "            k = min(len(pattern) + 1, q + 2)\n",
    "            while k > 0:\n",
    "                k = k - 1\n",
    "                if (pattern[0:k] == pattern[(q - k + 1):q] + c):\n",
    "                    break\n",
    "            res[q][c] = k\n",
    "\n",
    "    return res\n",
    "\n",
    "def finite_automaton_compare(text, pattern):\n",
    "    return get_matching_positions(text, get_delta(pattern))"
   ]
  },
  {
   "cell_type": "markdown",
   "metadata": {},
   "source": [
    "### Knuth-Morris-Pratt algorithm"
   ]
  },
  {
   "cell_type": "code",
   "execution_count": 10,
   "metadata": {},
   "outputs": [],
   "source": [
    "def kmp_compare(text, pattern):\n",
    "    pi = build_prefix_array(pattern)\n",
    "    q = 0\n",
    "    res = []\n",
    "    for i in range(0, len(text)):\n",
    "        while (q > 0 and pattern[q] != text[i]):\n",
    "            q = pi[q - 1]\n",
    "        if (text[i] == pattern[q]):\n",
    "            q = q + 1\n",
    "        if (q == len(pattern)):\n",
    "            res.append(i - q + 1)\n",
    "            q = pi[q - 1]\n",
    "    return res\n",
    "\n",
    "def build_prefix_array(pattern):\n",
    "    pi = [0]\n",
    "    k = 0\n",
    "    for q in range(1, len(pattern)):\n",
    "        while (k > 0 and pattern[q] != pattern[k]):\n",
    "            k = pi[k - 1]\n",
    "        if (pattern[q] == pattern[k]):\n",
    "            k = k + 1\n",
    "        pi.append(k)\n",
    "    return pi\n"
   ]
  },
  {
   "cell_type": "markdown",
   "metadata": {},
   "source": [
    "### Time comparison for long pattern"
   ]
  },
  {
   "cell_type": "code",
   "execution_count": 11,
   "metadata": {},
   "outputs": [
    {
     "name": "stdout",
     "output_type": "stream",
     "text": [
      "Naive: 0.869530439376831s\n",
      "Finite automaton: 0.34185051918029785s\n",
      "KMP: 0.7687621116638184s\n"
     ]
    }
   ],
   "source": [
    "text, pattern = time_comparison.generate_long_text(5000000)\n",
    "print(\"Naive: {}s\".format(time_comparison.measure_time(naive_compare, text, pattern)))\n",
    "print(\"Finite automaton: {}s\".format(time_comparison.measure_time(finite_automaton_compare, text, pattern)))\n",
    "print(\"KMP: {}s\".format(time_comparison.measure_time(kmp_compare, text, pattern)))"
   ]
  },
  {
   "cell_type": "markdown",
   "metadata": {},
   "source": [
    "### Time comparison for text file"
   ]
  },
  {
   "cell_type": "code",
   "execution_count": 59,
   "metadata": {},
   "outputs": [],
   "source": [
    "def compare_times(text, pattern):\n",
    "    naiveTime, naiveRes = time_comparison.measure_time_return(naive_compare, text, pattern)\n",
    "    print(\"Naive (time: {}s): {} matches\".format(naiveTime, len(naiveRes)))\n",
    "    \n",
    "    automatonTime, automatonRes = time_comparison.measure_time_return(finite_automaton_compare, text, pattern)\n",
    "    print(\"Finite automaton: (time: {}s): {} matches\".format(automatonTime, len(automatonRes)))\n",
    "    \n",
    "    kmpTime, kmpRes = time_comparison.measure_time_return(kmp_compare, text, pattern)\n",
    "    print(\"KMP: (time: {}s): {} matches\".format(kmpTime, len(kmpRes)))"
   ]
  },
  {
   "cell_type": "code",
   "execution_count": 60,
   "metadata": {},
   "outputs": [
    {
     "name": "stdout",
     "output_type": "stream",
     "text": [
      "Naive (time: 0.09780764579772949s): 273 matches\n",
      "Finite automaton: (time: 0.02242279052734375s): 273 matches\n",
      "KMP: (time: 0.039588212966918945s): 273 matches\n"
     ]
    }
   ],
   "source": [
    "pattern = \"art\"\n",
    "\n",
    "with open(\"data/text1.txt\", \"r\") as file:\n",
    "    text = file.read()\n",
    "    compare_times(text, pattern)"
   ]
  },
  {
   "cell_type": "markdown",
   "metadata": {},
   "source": [
    "### Time comparison for Wikipedia dump"
   ]
  },
  {
   "cell_type": "code",
   "execution_count": 61,
   "metadata": {},
   "outputs": [
    {
     "name": "stdout",
     "output_type": "stream",
     "text": [
      "Naive (time: 60.14912438392639s): 13 matches\n",
      "Finite automaton: (time: 51.40565085411072s): 13 matches\n",
      "KMP: (time: 61.85614228248596s): 13 matches\n"
     ]
    }
   ],
   "source": [
    "pattern = \"kruszwil\"\n",
    "\n",
    "with open(\"data/wikipedia-tail-kruszwil.txt\") as file:\n",
    "    text = file.read()\n",
    "    compare_times(text, pattern)"
   ]
  },
  {
   "cell_type": "markdown",
   "metadata": {},
   "source": [
    "## Special Patterns"
   ]
  },
  {
   "cell_type": "markdown",
   "metadata": {},
   "source": [
    "Text and pattern for which naive algorithm's running time will be at least two times longer than finite automaton and KMP running time. \n",
    "\n",
    "The idea here is to construct a text which contains the pattern multiple times, shifted by one character (because both KMP and finite automaton algorithms look at the longest prefix which is also the suffix of the pattern, they do not compare all of the characters with the pattern in the current window)."
   ]
  },
  {
   "cell_type": "code",
   "execution_count": 57,
   "metadata": {},
   "outputs": [],
   "source": [
    "def multiply_s(n, pat):\n",
    "    s = \"\"\n",
    "    for i in range(0, n):\n",
    "        s = s + pat\n",
    "    return s"
   ]
  },
  {
   "cell_type": "code",
   "execution_count": 58,
   "metadata": {},
   "outputs": [
    {
     "name": "stdout",
     "output_type": "stream",
     "text": [
      "Naive (time: 6.526066780090332s): 9990001\n",
      "Finite automaton: (time: 3.5208828449249268s): 9990001\n",
      "KMP: (time: 4.21057391166687s): 9990001\n"
     ]
    }
   ],
   "source": [
    "ab_text = multiply_s(10000000, \"a\")\n",
    "compare_times(ab_text, multiply_s(10000, \"a\"))"
   ]
  },
  {
   "cell_type": "markdown",
   "metadata": {},
   "source": [
    "Pattern for which preprocessing time of finite automaton is twice as long as KMP preprocessing time.\n",
    "\n",
    "The idea is to construct a pattern does not have a matching prefix and suffix. During construction of finite automaton we naively check for longest prefx-suffix, while during construction of pi array in KMP we use previously computed values.\n",
    "\n",
    "Example pattern: \"abcdefghijkl\""
   ]
  }
 ],
 "metadata": {
  "kernelspec": {
   "display_name": "Python 2",
   "language": "python",
   "name": "python2"
  },
  "language_info": {
   "codemirror_mode": {
    "name": "ipython",
    "version": 3
   },
   "file_extension": ".py",
   "mimetype": "text/x-python",
   "name": "python",
   "nbconvert_exporter": "python",
   "pygments_lexer": "ipython3",
   "version": "3.7.3"
  }
 },
 "nbformat": 4,
 "nbformat_minor": 2
}
